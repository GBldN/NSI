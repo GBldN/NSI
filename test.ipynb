{
 "cells": [
  {
   "cell_type": "markdown",
   "metadata": {
    "raw_mimetype": "text/x-python"
   },
   "source": [
    "# [ACTIVITE1] DONNÉES STRUCTURÉES\n",
    "\n",
    "Cette activité doit vous permettre de comprendre certaines problématiques dans les structures de séquences en type construit de python et de trouver des solutions pour être certain de ne pas y être confronter dans un programme.\n",
    "\n",
    "Ceci est votre premier NoteBook Jupyter, rien de bien sorcier il s'agit d'une structure de donnée qui permet d'éditer des cellules de texte ou de code et de pouvoir interpréter ce code directement avec le bouton \"Run\"... vous allez voir, c'est facile."
   ]
  },
  {
   "cell_type": "code",
   "execution_count": 6,
   "metadata": {},
   "outputs": [],
   "source": [
    "#Définition des variables : \n",
    "string1='abcdefghijklmnopqrstuvwxyz'    #Génération d'une séquence de type str (chaine de caractère) qui est immuable\n",
    "liste1=[10, 'Science', 25,6, True]      #Génération d'une séquence de type list (Attention une liste en python est un tableau dynamique) qui est mutable\n",
    "listevide=[]\n",
    "tuple1=(10, 'Science', 25,6, False)     #Génération d'une séquence de type tuple (n-uplet ou p-uplet) qui est immuable\n"
   ]
  },
  {
   "cell_type": "markdown",
   "metadata": {},
   "source": [
    "1_Extraction d'une valeur dans la structure de donnée :"
   ]
  },
  {
   "cell_type": "code",
   "execution_count": 7,
   "metadata": {},
   "outputs": [
    {
     "data": {
      "text/plain": [
       "'d'"
      ]
     },
     "execution_count": 7,
     "metadata": {},
     "output_type": "execute_result"
    }
   ],
   "source": [
    "string1[3] #Si la commande renvoie une erreur, cherchez une solution"
   ]
  },
  {
   "cell_type": "code",
   "execution_count": 8,
   "metadata": {},
   "outputs": [
    {
     "data": {
      "text/plain": [
       "10"
      ]
     },
     "execution_count": 8,
     "metadata": {},
     "output_type": "execute_result"
    }
   ],
   "source": [
    "liste1[0] #Si la commande renvoie une erreur, cherchez une solution"
   ]
  },
  {
   "cell_type": "code",
   "execution_count": 9,
   "metadata": {},
   "outputs": [
    {
     "name": "stderr",
     "output_type": "stream",
     "text": [
      "Error: Traceback (most recent call last):\n",
      "  File \"<exec>\", line 118, in shell_eval\n",
      "  File \"<exec>\", line 100, in eval\n",
      "  File \"/lib/python3.7/site-packages/pyodide.py\", line 45, in eval_code\n",
      "    return eval(compile(expr, '<eval>', mode='eval'), ns, ns)\n",
      "  File \"<eval>\", line 1, in <module>\n",
      "IndexError: list index out of range\n"
     ]
    }
   ],
   "source": [
    "listevide[0] #Si la commande renvoie une erreur, cherchez une solution"
   ]
  },
  {
   "cell_type": "markdown",
   "metadata": {},
   "source": [
    "2_Modification de l'une des valeurs "
   ]
  },
  {
   "cell_type": "code",
   "execution_count": null,
   "metadata": {},
   "outputs": [],
   "source": [
    "liste1[0]=12 #Si la commande renvoie une erreur, cherchez une solution"
   ]
  },
  {
   "cell_type": "code",
   "execution_count": null,
   "metadata": {},
   "outputs": [],
   "source": [
    "string1[3]='D' #Si la commande renvoie une erreur, cherchez une solution"
   ]
  },
  {
   "cell_type": "markdown",
   "metadata": {},
   "source": [
    "3_Problème de la copie d'une liste avec l'opérateur d'affectation '='"
   ]
  },
  {
   "cell_type": "code",
   "execution_count": 10,
   "metadata": {},
   "outputs": [
    {
     "data": {
      "text/plain": [
       "[10, 'Science', 25, 6, True]"
      ]
     },
     "execution_count": 10,
     "metadata": {},
     "output_type": "execute_result"
    }
   ],
   "source": [
    "liste2=liste1 #Fait une copie simple de la liste1 dans liste2\n",
    "liste2 #Afficher la liste2"
   ]
  },
  {
   "cell_type": "markdown",
   "metadata": {},
   "source": [
    "La liste2 est elle bien identique à la liste1 ? "
   ]
  },
  {
   "cell_type": "code",
   "execution_count": 11,
   "metadata": {},
   "outputs": [
    {
     "data": {
      "text/plain": [
       "[10, 'Science', 56.2, 6, True]"
      ]
     },
     "execution_count": 11,
     "metadata": {},
     "output_type": "execute_result"
    }
   ],
   "source": [
    "liste1[2]=56.2 #On modifie la liste 1\n",
    "liste2  #Afficher la liste2"
   ]
  },
  {
   "cell_type": "markdown",
   "metadata": {},
   "source": [
    "Que remarquez vous pour la liste 2 ? Trouvez une solution pour faire une copie profonde de la liste2 et testez là ci-dessous."
   ]
  },
  {
   "cell_type": "code",
   "execution_count": null,
   "metadata": {},
   "outputs": [],
   "source": []
  }
 ],
 "metadata": {
  "celltoolbar": "Raw Cell Format",
  "kernelspec": {
   "display_name": "Python 3",
   "language": "python",
   "name": "python3"
  },
  "language_info": {
   "codemirror_mode": {
    "name": "ipython",
    "version": 3
   },
   "file_extension": ".py",
   "mimetype": "text/x-python",
   "name": "python",
   "nbconvert_exporter": "python",
   "pygments_lexer": "ipython3",
   "version": "3.9.0rc1"
  }
 },
 "nbformat": 4,
 "nbformat_minor": 2
}
